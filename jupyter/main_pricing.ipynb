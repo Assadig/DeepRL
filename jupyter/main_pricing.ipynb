{
 "cells": [
  {
   "cell_type": "code",
   "execution_count": 10,
   "metadata": {},
   "outputs": [],
   "source": [
    "import warnings\n",
    "import numpy as np\n",
    "import pandas as pd\n",
    "import time\n",
    "import sys\n",
    "import import_ipynb\n",
    "# local library\n",
    "import task_utils\n",
    "import ddpg_dqn_pricing_config"
   ]
  },
  {
   "cell_type": "code",
   "execution_count": 11,
   "metadata": {},
   "outputs": [
    {
     "name": "stdout",
     "output_type": "stream",
     "text": [
      "-f\n"
     ]
    }
   ],
   "source": [
    "def main(arg):\n",
    "    input_data = task_utils.df\n",
    "\n",
    "    train_input = input_data[:700]\n",
    "    test_input = input_data[700:]\n",
    "    \n",
    "    # training\n",
    "    n_task = len(train_input)\n",
    "    sys.path.append(\"./model\")\n",
    "    print(arg)\n",
    "\n",
    "\n",
    "    if arg == \"ddpg\":\n",
    "        from ddpg_model import DDPG\n",
    "        from ddpg_dqn_pricing_config import DDPGConfig\n",
    "        config = DDPGConfig(n_task)\n",
    "        ddpg = DDPG(config)\n",
    "        values = ddpg.train(train_input)\n",
    "    elif arg == \"dqn\":\n",
    "        from dqn_model import DQN\n",
    "        from ddpg_dqn_pricing_config import DQNConfig\n",
    "        config = DQNConfig(n_task)\n",
    "        dqn = DQN(config)\n",
    "        values = dqn.train(train_input)\n",
    "        return values\n",
    "    else:\n",
    "        return None\n",
    "    \n",
    "    # prediction\n",
    "    price = []\n",
    "    date = []\n",
    "    index = test_input.index\n",
    "    values = test_input.values\n",
    "    old_value = values[0]\n",
    "    prof = 0\n",
    "    count = 0\n",
    "    for i in range(1, len(index)):\n",
    "        value = values[i]\n",
    "        action = ddpg.predict_action(old_value)\n",
    "        ddpg.update_memory(old_value, value)\n",
    "        gain = np.sum((value - old_value) * action)\n",
    "        prof += gain\n",
    "        price.append(prof)\n",
    "        date.append(index[i])\n",
    "        if count%10 == 0:\n",
    "            result = pd.DataFrame(price, index=pd.DatetimeIndex(date))\n",
    "            result.to_csv(\"test_result.csv\")\n",
    "        count += 1\n",
    "        if count%10 == 0:\n",
    "            print('time:', index[i])\n",
    "            print('portfolio:', action)\n",
    "            print('profit:', prof)\n",
    "        print('***************************')\n",
    "        for i in range(100):\n",
    "            ddpg.update_weight()\n",
    "        old_value = value\n",
    "    result = pd.DataFrame(price, index=pd.DatetimeIndex(date))\n",
    "    return result\n",
    "    \n",
    "if __name__ == '__main__':\n",
    "    arg = sys.argv[1]\n",
    "    warnings.filterwarnings(\"ignore\")\n",
    "    result = main(arg)"
   ]
  },
  {
   "cell_type": "code",
   "execution_count": 14,
   "metadata": {},
   "outputs": [
    {
     "name": "stdout",
     "output_type": "stream",
     "text": [
      "dqn\n",
      "building model....\n"
     ]
    },
    {
     "ename": "AttributeError",
     "evalue": "module 'tensorflow' has no attribute 'python'",
     "output_type": "error",
     "traceback": [
      "\u001b[0;31m---------------------------------------------------------------------------\u001b[0m",
      "\u001b[0;31mAttributeError\u001b[0m                            Traceback (most recent call last)",
      "\u001b[0;32m<ipython-input-14-6743cc28f40d>\u001b[0m in \u001b[0;36m<module>\u001b[0;34m\u001b[0m\n\u001b[0;32m----> 1\u001b[0;31m \u001b[0mmain\u001b[0m\u001b[0;34m(\u001b[0m\u001b[0;34m'dqn'\u001b[0m\u001b[0;34m)\u001b[0m\u001b[0;34m\u001b[0m\u001b[0;34m\u001b[0m\u001b[0m\n\u001b[0m",
      "\u001b[0;32m<ipython-input-11-babf3bd437ac>\u001b[0m in \u001b[0;36mmain\u001b[0;34m(arg)\u001b[0m\n\u001b[1;32m     21\u001b[0m         \u001b[0;32mfrom\u001b[0m \u001b[0mddpg_dqn_pricing_config\u001b[0m \u001b[0;32mimport\u001b[0m \u001b[0mDQNConfig\u001b[0m\u001b[0;34m\u001b[0m\u001b[0;34m\u001b[0m\u001b[0m\n\u001b[1;32m     22\u001b[0m         \u001b[0mconfig\u001b[0m \u001b[0;34m=\u001b[0m \u001b[0mDQNConfig\u001b[0m\u001b[0;34m(\u001b[0m\u001b[0mn_task\u001b[0m\u001b[0;34m)\u001b[0m\u001b[0;34m\u001b[0m\u001b[0;34m\u001b[0m\u001b[0m\n\u001b[0;32m---> 23\u001b[0;31m         \u001b[0mdqn\u001b[0m \u001b[0;34m=\u001b[0m \u001b[0mDQN\u001b[0m\u001b[0;34m(\u001b[0m\u001b[0mconfig\u001b[0m\u001b[0;34m)\u001b[0m\u001b[0;34m\u001b[0m\u001b[0;34m\u001b[0m\u001b[0m\n\u001b[0m\u001b[1;32m     24\u001b[0m         \u001b[0mvalues\u001b[0m \u001b[0;34m=\u001b[0m \u001b[0mdqn\u001b[0m\u001b[0;34m.\u001b[0m\u001b[0mtrain\u001b[0m\u001b[0;34m(\u001b[0m\u001b[0mtrain_input\u001b[0m\u001b[0;34m)\u001b[0m\u001b[0;34m\u001b[0m\u001b[0;34m\u001b[0m\u001b[0m\n\u001b[1;32m     25\u001b[0m         \u001b[0;32mreturn\u001b[0m \u001b[0mvalues\u001b[0m\u001b[0;34m\u001b[0m\u001b[0;34m\u001b[0m\u001b[0m\n",
      "\u001b[0;32m~/Projects/DeepRL/jupyter/dqn_model.ipynb\u001b[0m in \u001b[0;36m__init__\u001b[0;34m(self, config)\u001b[0m\n",
      "\u001b[0;31mAttributeError\u001b[0m: module 'tensorflow' has no attribute 'python'"
     ]
    }
   ],
   "source": [
    "main('dqn')"
   ]
  },
  {
   "cell_type": "code",
   "execution_count": null,
   "metadata": {},
   "outputs": [],
   "source": []
  }
 ],
 "metadata": {
  "kernelspec": {
   "display_name": "Python 3",
   "language": "python",
   "name": "python3"
  },
  "language_info": {
   "codemirror_mode": {
    "name": "ipython",
    "version": 3
   },
   "file_extension": ".py",
   "mimetype": "text/x-python",
   "name": "python",
   "nbconvert_exporter": "python",
   "pygments_lexer": "ipython3",
   "version": "3.7.2"
  }
 },
 "nbformat": 4,
 "nbformat_minor": 2
}
