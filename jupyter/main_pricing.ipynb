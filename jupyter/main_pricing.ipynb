{
 "cells": [
  {
   "cell_type": "code",
   "execution_count": 6,
   "metadata": {},
   "outputs": [
    {
     "name": "stdout",
     "output_type": "stream",
     "text": [
      "importing Jupyter notebook from ddpg_dqn_pricing_config.ipynb\n"
     ]
    }
   ],
   "source": [
    "import warnings\n",
    "import numpy as np\n",
    "import pandas as pd\n",
    "import time\n",
    "import sys\n",
    "import import_ipynb\n",
    "# local library\n",
    "import task_utils\n",
    "import ddpg_dqn_pricing_config"
   ]
  },
  {
   "cell_type": "code",
   "execution_count": null,
   "metadata": {},
   "outputs": [],
   "source": [
    "def main(arg):\n",
    "    input_data = task_utils.df\n",
    "\n",
    "    train_input = input_data[:700]\n",
    "    test_input = input_data[700:]\n",
    "    \n",
    "    # training\n",
    "    n_task = len(train_input)\n",
    "    sys.path.append(\"./model\")\n",
    "    print(arg)\n",
    "\n",
    "\n",
    "    if arg == \"ddpg\":\n",
    "        from ddpg import DDPG\n",
    "        from config import DDPGConfig\n",
    "        config = DDPGConfig(n_task)\n",
    "        ddpg = DDPG(config)\n",
    "        values = ddpg.train(train_input)\n",
    "    elif arg == \"dqn\":\n",
    "        from dqn import DQN\n",
    "        from config import DQNConfig\n",
    "        config = DQNConfig(n_task)\n",
    "        dqn = DQN(config)\n",
    "        values = dqn.train(train_input)\n",
    "        return values\n",
    "    else:\n",
    "        return None\n",
    "    \n",
    "    # prediction\n",
    "    price = []\n",
    "    date = []\n",
    "    index = test_input.index\n",
    "    values = test_input.values\n",
    "    old_value = values[0]\n",
    "    prof = 0\n",
    "    count = 0\n",
    "    for i in range(1, len(index)):\n",
    "        value = values[i]\n",
    "        action = ddpg.predict_action(old_value)\n",
    "        ddpg.update_memory(old_value, value)\n",
    "        gain = np.sum((value - old_value) * action)\n",
    "        prof += gain\n",
    "        price.append(prof)\n",
    "        date.append(index[i])\n",
    "        if count%10 == 0:\n",
    "            result = pd.DataFrame(profit, index=pd.DatetimeIndex(date))\n",
    "            result.to_csv(\"test_result.csv\")\n",
    "        count += 1\n",
    "        if count%10 == 0:\n",
    "            print('time:', index[i])\n",
    "            print('portfolio:', action)\n",
    "            print('profit:', prof)\n",
    "        print('***************************')\n",
    "        for i in range(100):\n",
    "            ddpg.update_weight()\n",
    "        old_value = value\n",
    "    result = pd.DataFrame(profit, index=pd.DatetimeIndex(date))\n",
    "    return result\n",
    "    \n",
    "if __name__ == '__main__':\n",
    "    arg = sys.argv[1]\n",
    "    warnings.filterwarnings(\"ignore\")\n",
    "    result = main(arg)"
   ]
  }
 ],
 "metadata": {
  "kernelspec": {
   "display_name": "drl-pricing",
   "language": "python",
   "name": "drl-pricing"
  },
  "language_info": {
   "codemirror_mode": {
    "name": "ipython",
    "version": 3
   },
   "file_extension": ".py",
   "mimetype": "text/x-python",
   "name": "python",
   "nbconvert_exporter": "python",
   "pygments_lexer": "ipython3",
   "version": "3.6.12"
  }
 },
 "nbformat": 4,
 "nbformat_minor": 2
}
