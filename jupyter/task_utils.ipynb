{
 "cells": [
  {
   "cell_type": "code",
   "execution_count": 1,
   "metadata": {},
   "outputs": [
    {
     "name": "stderr",
     "output_type": "stream",
     "text": [
      "C:\\Users\\dmdoe\\.conda\\envs\\drl-pricing\\lib\\site-packages\\numpy\\_distributor_init.py:32: UserWarning: loaded more than 1 DLL from .libs:\n",
      "C:\\Users\\dmdoe\\.conda\\envs\\drl-pricing\\lib\\site-packages\\numpy\\.libs\\libopenblas.NOIJJG62EMASZI6NYURL6JBKM4EVBGM7.gfortran-win_amd64.dll\n",
      "C:\\Users\\dmdoe\\.conda\\envs\\drl-pricing\\lib\\site-packages\\numpy\\.libs\\libopenblas.PYQHXLVVQ7VESDPUVUADXEVJOBGHJPAY.gfortran-win_amd64.dll\n",
      "  stacklevel=1)\n"
     ]
    }
   ],
   "source": [
    "import random\n",
    "from random_timestamp import random_timestamp\n",
    "import datetime as dt\n",
    "import matplotlib.pyplot as plt\n",
    "import numpy as np\n",
    "import pandas as pd"
   ]
  },
  {
   "cell_type": "code",
   "execution_count": 2,
   "metadata": {},
   "outputs": [],
   "source": [
    "random.seed(30)\n",
    "task_distribution = []\n",
    "for i in range(1000):\n",
    "    date_time = random_timestamp(2020, 4, 16, 'DATE/TIME')\n",
    "    cs_name = random.randint(1,5)\n",
    "    cpu_cycles = random.randint(1,10)\n",
    "    energy_units = random.randint(1,10)\n",
    "    network_bandwidth = random.randint(1,10)\n",
    "    storage_space = random.randint(1,10)\n",
    "    duration = round((cpu_cycles + energy_units + network_bandwidth + storage_space)+\n",
    "    (cpu_cycles + energy_units + network_bandwidth + storage_space)*random.uniform(0.3,1),0)\n",
    "    price = round(random.uniform((cpu_cycles + energy_units + network_bandwidth + storage_space)*5,(cpu_cycles + energy_units + network_bandwidth + storage_space)*10), 2)\n",
    "    task_distribution.append([date_time,cs_name,cpu_cycles,energy_units,network_bandwidth,storage_space,duration, price])"
   ]
  },
  {
   "cell_type": "code",
   "execution_count": 3,
   "metadata": {},
   "outputs": [],
   "source": [
    "df = pd.DataFrame(task_distribution, columns=['date_time', 'cs_name', 'cpu_cycles',\n",
    "'energy_units', 'network_bandwidth', 'storage_space', 'duration', 'price'])"
   ]
  },
  {
   "cell_type": "code",
   "execution_count": 4,
   "metadata": {},
   "outputs": [
    {
     "data": {
      "text/html": [
       "<div>\n",
       "<style scoped>\n",
       "    .dataframe tbody tr th:only-of-type {\n",
       "        vertical-align: middle;\n",
       "    }\n",
       "\n",
       "    .dataframe tbody tr th {\n",
       "        vertical-align: top;\n",
       "    }\n",
       "\n",
       "    .dataframe thead th {\n",
       "        text-align: right;\n",
       "    }\n",
       "</style>\n",
       "<table border=\"1\" class=\"dataframe\">\n",
       "  <thead>\n",
       "    <tr style=\"text-align: right;\">\n",
       "      <th></th>\n",
       "      <th>date_time</th>\n",
       "      <th>cs_name</th>\n",
       "      <th>cpu_cycles</th>\n",
       "      <th>energy_units</th>\n",
       "      <th>network_bandwidth</th>\n",
       "      <th>storage_space</th>\n",
       "      <th>duration</th>\n",
       "      <th>price</th>\n",
       "    </tr>\n",
       "  </thead>\n",
       "  <tbody>\n",
       "    <tr>\n",
       "      <th>0</th>\n",
       "      <td>2020-04-16 17:51:18</td>\n",
       "      <td>5</td>\n",
       "      <td>1</td>\n",
       "      <td>10</td>\n",
       "      <td>4</td>\n",
       "      <td>5</td>\n",
       "      <td>27.0</td>\n",
       "      <td>137.62</td>\n",
       "    </tr>\n",
       "    <tr>\n",
       "      <th>1</th>\n",
       "      <td>2020-04-16 04:05:29</td>\n",
       "      <td>1</td>\n",
       "      <td>9</td>\n",
       "      <td>4</td>\n",
       "      <td>1</td>\n",
       "      <td>2</td>\n",
       "      <td>32.0</td>\n",
       "      <td>152.68</td>\n",
       "    </tr>\n",
       "    <tr>\n",
       "      <th>2</th>\n",
       "      <td>2020-04-16 19:33:58</td>\n",
       "      <td>4</td>\n",
       "      <td>6</td>\n",
       "      <td>9</td>\n",
       "      <td>2</td>\n",
       "      <td>7</td>\n",
       "      <td>32.0</td>\n",
       "      <td>216.64</td>\n",
       "    </tr>\n",
       "    <tr>\n",
       "      <th>3</th>\n",
       "      <td>2020-04-16 21:17:48</td>\n",
       "      <td>4</td>\n",
       "      <td>10</td>\n",
       "      <td>2</td>\n",
       "      <td>5</td>\n",
       "      <td>9</td>\n",
       "      <td>50.0</td>\n",
       "      <td>144.53</td>\n",
       "    </tr>\n",
       "    <tr>\n",
       "      <th>4</th>\n",
       "      <td>2020-04-16 15:59:19</td>\n",
       "      <td>2</td>\n",
       "      <td>5</td>\n",
       "      <td>5</td>\n",
       "      <td>5</td>\n",
       "      <td>9</td>\n",
       "      <td>33.0</td>\n",
       "      <td>149.19</td>\n",
       "    </tr>\n",
       "  </tbody>\n",
       "</table>\n",
       "</div>"
      ],
      "text/plain": [
       "            date_time  cs_name  cpu_cycles  energy_units  network_bandwidth  \\\n",
       "0 2020-04-16 17:51:18        5           1            10                  4   \n",
       "1 2020-04-16 04:05:29        1           9             4                  1   \n",
       "2 2020-04-16 19:33:58        4           6             9                  2   \n",
       "3 2020-04-16 21:17:48        4          10             2                  5   \n",
       "4 2020-04-16 15:59:19        2           5             5                  5   \n",
       "\n",
       "   storage_space  duration   price  \n",
       "0              5      27.0  137.62  \n",
       "1              2      32.0  152.68  \n",
       "2              7      32.0  216.64  \n",
       "3              9      50.0  144.53  \n",
       "4              9      33.0  149.19  "
      ]
     },
     "execution_count": 4,
     "metadata": {},
     "output_type": "execute_result"
    }
   ],
   "source": [
    "df.head()"
   ]
  },
  {
   "cell_type": "code",
   "execution_count": 204,
   "metadata": {},
   "outputs": [],
   "source": [
    "def testscore(prediction, target):\n",
    "    return np.mean(np.abs(prediction - target) / target)"
   ]
  },
  {
   "cell_type": "markdown",
   "metadata": {},
   "source": [
    " "
   ]
  },
  {
   "cell_type": "markdown",
   "metadata": {},
   "source": [
    " \n"
   ]
  },
  {
   "cell_type": "markdown",
   "metadata": {},
   "source": [
    " "
   ]
  },
  {
   "cell_type": "markdown",
   "metadata": {},
   "source": [
    " "
   ]
  },
  {
   "cell_type": "markdown",
   "metadata": {},
   "source": [
    "df = pd.DataFrame(task_distribution, columns=['date_time', 'cs_name', 'cpu_cycles',\n",
    "'energy_units', 'network_bandwidth', 'storage_space', 'duration', 'price'])"
   ]
  },
  {
   "cell_type": "markdown",
   "metadata": {},
   "source": [
    "df['hour'] = pd.to_datetime(df['date_time']).dt.hour"
   ]
  },
  {
   "cell_type": "markdown",
   "metadata": {},
   "source": [
    "plt.figure(figsize =(15,5))\n",
    "df.groupby((df['date_time']).dt.hour).size().plot.line()"
   ]
  },
  {
   "cell_type": "markdown",
   "metadata": {},
   "source": [
    "df_counter = df.groupby([df['date_time'].dt.year.rename('year'), df['date_time'].dt.month.rename('month'), df['date_time'].dt.day.rename('day'), df['date_time'].dt.hour.rename('hour')]).agg({'count'}).iloc[:, [0]]\n",
    "df_counter = df_counter.reset_index() \n",
    "df_counter.columns = [ \"year\", \"month\", \"day\", \"hour\", \"task_count\"]"
   ]
  },
  {
   "cell_type": "markdown",
   "metadata": {},
   "source": [
    "df.drop('task_count', axis=1, inplace=True)"
   ]
  },
  {
   "cell_type": "markdown",
   "metadata": {},
   "source": [
    "df_counter"
   ]
  },
  {
   "cell_type": "markdown",
   "metadata": {},
   "source": [
    "df_counter.head()"
   ]
  },
  {
   "cell_type": "markdown",
   "metadata": {},
   "source": [
    "df.head()"
   ]
  },
  {
   "cell_type": "markdown",
   "metadata": {},
   "source": [
    "for i in df:\n",
    "    for j in df_counter:\n",
    "        if df[i]"
   ]
  },
  {
   "cell_type": "markdown",
   "metadata": {},
   "source": [
    "utility = (df['cpu_cycles']*10)+(df['energy_units']*10)+(df['network_bandwidth']*5)+(df['storage_space']*5)"
   ]
  },
  {
   "cell_type": "markdown",
   "metadata": {},
   "source": []
  },
  {
   "cell_type": "markdown",
   "metadata": {},
   "source": [
    "utility - df['task_count']"
   ]
  },
  {
   "cell_type": "markdown",
   "metadata": {},
   "source": []
  }
 ],
 "metadata": {
  "kernelspec": {
   "display_name": "Python 3",
   "language": "python",
   "name": "python3"
  },
  "language_info": {
   "codemirror_mode": {
    "name": "ipython",
    "version": 3
   },
   "file_extension": ".py",
   "mimetype": "text/x-python",
   "name": "python",
   "nbconvert_exporter": "python",
   "pygments_lexer": "ipython3",
   "version": "3.7.2"
  }
 },
 "nbformat": 4,
 "nbformat_minor": 2
}
