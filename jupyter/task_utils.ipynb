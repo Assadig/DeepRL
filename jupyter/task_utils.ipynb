{
 "cells": [
  {
   "cell_type": "code",
   "execution_count": 183,
   "metadata": {},
   "outputs": [],
   "source": [
    "import random\n",
    "from random_timestamp import random_timestamp\n",
    "import datetime as dt\n",
    "import matplotlib.pyplot as plt\n",
    "import numpy as np\n",
    "import pandas as pd"
   ]
  },
  {
   "cell_type": "code",
   "execution_count": 194,
   "metadata": {},
   "outputs": [],
   "source": [
    "random.seed(30)\n",
    "task_distribution = []\n",
    "for i in range(1000):\n",
    "    date_time = random_timestamp(2020, 4, 16, 'DATE/TIME')\n",
    "    cs_name = random.randint(1,5)\n",
    "    cpu_cycles = random.randint(1,10)\n",
    "    energy_units = random.randint(1,10)\n",
    "    network_bandwidth = random.randint(1,10)\n",
    "    storage_space = random.randint(1,10)\n",
    "    duration = round((cpu_cycles + energy_units + network_bandwidth + storage_space)+\n",
    "    (cpu_cycles + energy_units + network_bandwidth + storage_space)*random.uniform(0.3,1),0)\n",
    "    price = round(random.uniform(300,1000), 2)\n",
    "    task_distribution.append([date_time,cs_name,cpu_cycles,energy_units,network_bandwidth,storage_space,duration, price])"
   ]
  },
  {
   "cell_type": "code",
   "execution_count": 203,
   "metadata": {},
   "outputs": [
    {
     "data": {
      "text/plain": [
       "300"
      ]
     },
     "execution_count": 203,
     "metadata": {},
     "output_type": "execute_result"
    }
   ],
   "source": [
    "len(task_distribution[700:])"
   ]
  },
  {
   "cell_type": "code",
   "execution_count": 206,
   "metadata": {},
   "outputs": [],
   "source": [
    "df = pd.DataFrame(task_distribution, columns=['date_time', 'cs_name', 'cpu_cycles',\n",
    "'energy_units', 'network_bandwidth', 'storage_space', 'duration', 'price'])"
   ]
  },
  {
   "cell_type": "code",
   "execution_count": 211,
   "metadata": {},
   "outputs": [
    {
     "data": {
      "text/plain": [
       "array([Timestamp('2020-04-16 17:51:18'), 5, 1, 10, 4, 5, 27.0, 563.33],\n",
       "      dtype=object)"
      ]
     },
     "execution_count": 211,
     "metadata": {},
     "output_type": "execute_result"
    }
   ],
   "source": [
    "df.values[0]"
   ]
  },
  {
   "cell_type": "code",
   "execution_count": 204,
   "metadata": {},
   "outputs": [],
   "source": [
    "def testscore(prediction, target):\n",
    "    return np.mean(np.abs(prediction - target) / target)"
   ]
  },
  {
   "cell_type": "markdown",
   "metadata": {},
   "source": [
    " "
   ]
  },
  {
   "cell_type": "markdown",
   "metadata": {},
   "source": [
    " \n"
   ]
  },
  {
   "cell_type": "markdown",
   "metadata": {},
   "source": [
    " "
   ]
  },
  {
   "cell_type": "markdown",
   "metadata": {},
   "source": [
    " "
   ]
  },
  {
   "cell_type": "markdown",
   "metadata": {},
   "source": [
    "df = pd.DataFrame(task_distribution, columns=['date_time', 'cs_name', 'cpu_cycles',\n",
    "'energy_units', 'network_bandwidth', 'storage_space', 'duration', 'price'])"
   ]
  },
  {
   "cell_type": "markdown",
   "metadata": {},
   "source": [
    "df['hour'] = pd.to_datetime(df['date_time']).dt.hour"
   ]
  },
  {
   "cell_type": "markdown",
   "metadata": {},
   "source": [
    "plt.figure(figsize =(15,5))\n",
    "df.groupby((df['date_time']).dt.hour).size().plot.line()"
   ]
  },
  {
   "cell_type": "markdown",
   "metadata": {},
   "source": [
    "df_counter = df.groupby([df['date_time'].dt.year.rename('year'), df['date_time'].dt.month.rename('month'), df['date_time'].dt.day.rename('day'), df['date_time'].dt.hour.rename('hour')]).agg({'count'}).iloc[:, [0]]\n",
    "df_counter = df_counter.reset_index() \n",
    "df_counter.columns = [ \"year\", \"month\", \"day\", \"hour\", \"task_count\"]"
   ]
  },
  {
   "cell_type": "markdown",
   "metadata": {},
   "source": [
    "df.drop('task_count', axis=1, inplace=True)"
   ]
  },
  {
   "cell_type": "markdown",
   "metadata": {},
   "source": [
    "df_counter"
   ]
  },
  {
   "cell_type": "markdown",
   "metadata": {},
   "source": [
    "df_counter.head()"
   ]
  },
  {
   "cell_type": "markdown",
   "metadata": {},
   "source": [
    "df.head()"
   ]
  },
  {
   "cell_type": "markdown",
   "metadata": {},
   "source": [
    "for i in df:\n",
    "    for j in df_counter:\n",
    "        if df[i]"
   ]
  },
  {
   "cell_type": "markdown",
   "metadata": {},
   "source": [
    "utility = (df['cpu_cycles']*10)+(df['energy_units']*10)+(df['network_bandwidth']*5)+(df['storage_space']*5)"
   ]
  },
  {
   "cell_type": "markdown",
   "metadata": {},
   "source": []
  },
  {
   "cell_type": "markdown",
   "metadata": {},
   "source": [
    "utility - df['task_count']"
   ]
  },
  {
   "cell_type": "markdown",
   "metadata": {},
   "source": []
  }
 ],
 "metadata": {
  "kernelspec": {
   "display_name": "Python 3",
   "language": "python",
   "name": "python3"
  },
  "language_info": {
   "codemirror_mode": {
    "name": "ipython",
    "version": 3
   },
   "file_extension": ".py",
   "mimetype": "text/x-python",
   "name": "python",
   "nbconvert_exporter": "python",
   "pygments_lexer": "ipython3",
   "version": "3.7.2"
  }
 },
 "nbformat": 4,
 "nbformat_minor": 2
}
